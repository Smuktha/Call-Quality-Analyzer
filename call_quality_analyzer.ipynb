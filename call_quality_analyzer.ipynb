{
 "cells": [
  {
   "cell_type": "code",
   "execution_count": null,
   "id": "011f51f8-6a75-442f-8dd2-3fc0262451c4",
   "metadata": {},
   "outputs": [],
   "source": [
    "#  Call Quality Analyzer\n",
    "Assignment Submission- Voice AI Startup\n",
    "Author:Muktha\n",
    "\n",
    "This notebook analyzes sales call transcripts and extracts key conversational metrics.\n",
    "\n",
    "Steps:\n",
    "\n",
    "Input transcript lines with speaker labels (e.g., “Sales Rep:” and “Customer:”).\n",
    "The system calculates:\n",
    "Talk-time ratio (based on word count)\n",
    "Number of questions (using “?” and question words)\n",
    "Longest monologue (by word length)\n",
    "Overall sentiment (positive, negative, or neutral using keyword counts)\n",
    "One actionable insight (based on dominance in talk-time)\n",
    "Why this works: This lightweight approach avoids heavy APIs and runs instantly in Jupyter, even on low-resource machines. It can be extended with real ASR (speech-to-text) for full automation."
   ]
  },
  {
   "cell_type": "code",
   "execution_count": 5,
   "id": "d244022b-a9fc-4bef-a377-b16c9f9a6948",
   "metadata": {},
   "outputs": [],
   "source": [
    "import re\n",
    "from collections import defaultdict\n",
    "POSITIVE_WORDS ={\"good\",\"great\",\"happy\",\"excellent\",\"love\",\"awesome\",\"nice\",\"positive\",\"thank\",\"thanks\"}\n",
    "NEGATIVE_WORDS= {\"bad\",\"poor\",\"angry\",\"hate\",\"awful\",\"disappoint\",\"problem\",\"negative\",\"issue\",\"sorry\"}\n",
    "\n",
    "QUESTION_WORDS= r\"^(who|what|when|where|why|how|is|are|do|does|did|can|could|would|should)\\b\"\n",
    "\n",
    "def parse_plain_text(lines):\n",
    "    utterances, last_speaker = [], None\n",
    "    for line in lines:\n",
    "        line=line.strip()\n",
    "        if not line: \n",
    "            continue\n",
    "        m = re.match(r'^\\s*(?:\\[[0-9:\\.]+\\]\\s*)?([^:]+):\\s*(.+)$', line)\n",
    "        if m:\n",
    "            speaker, txt = m.group(1).strip(), m.group(2).strip()\n",
    "            utterances.append({\"speaker\": speaker,\"text\": txt,\"words\": len(txt.split())})\n",
    "            last_speaker=speaker\n",
    "        elif utterances:\n",
    "            utterances[-1]['text'] += ' ' + line\n",
    "            utterances[-1]['words']=len(utterances[-1]['text'].split())\n",
    "    return utterances\n",
    "def analyze(utterances):\n",
    "    speaker_words=defaultdict(int)\n",
    "    for u in utterances:\n",
    "        speaker_words[u['speaker']]+=u.get('words',0)\n",
    "\n",
    "    total=sum(speaker_words.values()) or 1\n",
    "    talk_ratios={sp:round(speaker_words[sp]/total*100,2) for sp in speaker_words}\n",
    "\n",
    "    questions, per_speaker_questions=0,defaultdict(int)\n",
    "    longest, longest_speaker=0,None\n",
    "    for u in utterances:\n",
    "        txt=u['text']\n",
    "        if '?' in txt or re.match(QUESTION_WORDS,txt,flags=re.I):\n",
    "            questions+=1; per_speaker_questions[u['speaker']]+=1\n",
    "        if u['words']>longest:\n",
    "            longest=u['words']; longest_speaker=u['speaker']\n",
    "\n",
    "    sentiment=\"Neutral\"\n",
    "    text=\" \".join(u['text'] for u in utterances).lower()\n",
    "    pos=sum(text.count(w) for w in POSITIVE_WORDS)\n",
    "    neg=sum(text.count(w) for w in NEGATIVE_WORDS)\n",
    "    if pos>neg: sentiment=\"Positive\"\n",
    "    elif neg>pos: sentiment=\"Negative\"\n",
    "\n",
    "    results={\"talk_ratios\":talk_ratios,\n",
    "             \"questions_total\":questions,\n",
    "             \"questions_by_speaker\":dict(per_speaker_questions),\n",
    "             \"longest_monologue\":f\"{longest} words by {longest_speaker}\",\n",
    "             \"sentiment\":sentiment,\n",
    "             \"insight\":f\"{max(talk_ratios,key=talk_ratios.get)} dominated the call. Try balancing conversation.\"}\n",
    "    return results"
   ]
  },
  {
   "cell_type": "code",
   "execution_count": 7,
   "id": "8d76d01e-9401-48b2-891c-274369cbbf3c",
   "metadata": {},
   "outputs": [
    {
     "data": {
      "text/plain": [
       "{'talk_ratios': {'Sales Rep': 50.0, 'Customer': 50.0},\n",
       " 'questions_total': 2,\n",
       " 'questions_by_speaker': {'Customer': 2},\n",
       " 'longest_monologue': '11 words by Customer',\n",
       " 'sentiment': 'Positive',\n",
       " 'insight': 'Sales Rep dominated the call. Try balancing conversation.'}"
      ]
     },
     "execution_count": 7,
     "metadata": {},
     "output_type": "execute_result"
    }
   ],
   "source": [
    "demo_transcript = [\n",
    "    \"Sales Rep: Hi, thanks for joining the demo today.\",\n",
    "    \"Customer: Hello, I wanted to know if this works with small teams?\",\n",
    "    \"Sales Rep: Yes, absolutely! It’s designed for flexibility.\",\n",
    "    \"Customer: Great, and what about the pricing?\",\n",
    "    \"Sales Rep: Pricing is scalable based on your needs.\",\n",
    "    \"Customer: Thanks, that’s helpful.\"\n",
    "]\n",
    "utterances = parse_plain_text(demo_transcript)\n",
    "results = analyze(utterances)\n",
    "results"
   ]
  },
  {
   "cell_type": "code",
   "execution_count": null,
   "id": "0deb2783-a59d-48a3-967c-3652e5ad5706",
   "metadata": {},
   "outputs": [],
   "source": []
  }
 ],
 "metadata": {
  "kernelspec": {
   "display_name": "Python 3 (ipykernel)",
   "language": "python",
   "name": "python3"
  },
  "language_info": {
   "codemirror_mode": {
    "name": "ipython",
    "version": 3
   },
   "file_extension": ".py",
   "mimetype": "text/x-python",
   "name": "python",
   "nbconvert_exporter": "python",
   "pygments_lexer": "ipython3",
   "version": "3.11.7"
  }
 },
 "nbformat": 4,
 "nbformat_minor": 5
}
